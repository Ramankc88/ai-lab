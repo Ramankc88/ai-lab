{
  "nbformat": 4,
  "nbformat_minor": 0,
  "metadata": {
    "colab": {
      "provenance": [],
      "authorship_tag": "ABX9TyOnRcKHHDOWf+itAg18D+vg",
      "include_colab_link": true
    },
    "kernelspec": {
      "name": "python3",
      "display_name": "Python 3"
    },
    "language_info": {
      "name": "python"
    }
  },
  "cells": [
    {
      "cell_type": "markdown",
      "metadata": {
        "id": "view-in-github",
        "colab_type": "text"
      },
      "source": [
        "<a href=\"https://colab.research.google.com/github/Ramankc88/ai-lab/blob/main/waterjug_arbitary.ipynb\" target=\"_parent\"><img src=\"https://colab.research.google.com/assets/colab-badge.svg\" alt=\"Open In Colab\"/></a>"
      ]
    },
    {
      "cell_type": "code",
      "execution_count": 1,
      "metadata": {
        "colab": {
          "base_uri": "https://localhost:8080/"
        },
        "id": "zqyjixk_2liP",
        "outputId": "6b1f4674-d9ce-4ecc-f7b9-d855cdd7d16d"
      },
      "outputs": [
        {
          "output_type": "stream",
          "name": "stdout",
          "text": [
            "Enter the capacity of Jug1: 3\n",
            "Enter the capacity of Jug2: 4\n",
            "Enter the target amount: 2\n",
            "Move from (0, 0) to (3, 0)\n",
            "Move from (3, 0) to (0, 3)\n",
            "Move from (0, 3) to (3, 3)\n",
            "Move from (3, 3) to (2, 4)\n",
            "Goal Reached with state: (2, 4)\n"
          ]
        }
      ],
      "source": [
        "from collections import deque\n",
        "\n",
        "def get_successors(state, max_jug1, max_jug2):\n",
        "    successors = []\n",
        "    jug1, jug2 = state\n",
        "    if jug1 < max_jug1:\n",
        "        successors.append((max_jug1, jug2))\n",
        "    if jug2 < max_jug2:\n",
        "        successors.append((jug1, max_jug2))\n",
        "    if jug1 > 0:\n",
        "        successors.append((0, jug2))\n",
        "    if jug2 > 0:\n",
        "        successors.append((jug1, 0))\n",
        "    pour = min(jug1, max_jug2 - jug2)\n",
        "    if pour > 0:\n",
        "        successors.append((jug1 - pour, jug2 + pour))\n",
        "    pour = min(jug2, max_jug1 - jug1)\n",
        "    if pour > 0:\n",
        "        successors.append((jug1 + pour, jug2 - pour))\n",
        "    return successors\n",
        "\n",
        "def water_jug_problem(max_jug1, max_jug2, goal_test):\n",
        "    initial_state = (0, 0)\n",
        "    queue = deque([(initial_state, [])])\n",
        "    visited = set()\n",
        "    while queue:\n",
        "        current_state, actions = queue.popleft()\n",
        "        if current_state in visited:\n",
        "            continue\n",
        "        visited.add(current_state)\n",
        "        if goal_test(current_state):\n",
        "            return actions + [f\"Goal Reached with state: {current_state}\"]\n",
        "        for successor in get_successors(current_state, max_jug1, max_jug2):\n",
        "            action = f\"Move from {current_state} to {successor}\"\n",
        "            queue.append((successor, actions + [action]))\n",
        "    return \"No solution found\"\n",
        "\n",
        "if __name__ == \"__main__\":\n",
        "    max_jug1 = int(input(\"Enter the capacity of Jug1: \"))\n",
        "    max_jug2 = int(input(\"Enter the capacity of Jug2: \"))\n",
        "    target_amount = int(input(\"Enter the target amount: \"))\n",
        "    def goal_test(state):\n",
        "        return target_amount in state\n",
        "    solution = water_jug_problem(max_jug1, max_jug2, goal_test)\n",
        "    for step in solution:\n",
        "        print(step)\n"
      ]
    }
  ]
}